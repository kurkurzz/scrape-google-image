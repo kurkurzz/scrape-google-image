{
 "cells": [
  {
   "cell_type": "code",
   "execution_count": 39,
   "metadata": {},
   "outputs": [],
   "source": [
    "import os\n",
    "import re\n",
    "import fitz\n",
    "import itertools\n"
   ]
  },
  {
   "cell_type": "code",
   "execution_count": 2,
   "metadata": {},
   "outputs": [],
   "source": [
    "pdf_path = 'data/source/kamus-dewan.pdf'"
   ]
  },
  {
   "cell_type": "code",
   "execution_count": 26,
   "metadata": {},
   "outputs": [
    {
     "data": {
      "text/plain": [
       "Document('data/source/kamus-dewan.pdf')"
      ]
     },
     "execution_count": 26,
     "metadata": {},
     "output_type": "execute_result"
    }
   ],
   "source": [
    "doc = fitz.open(pdf_path) \n",
    "doc"
   ]
  },
  {
   "cell_type": "code",
   "execution_count": 28,
   "metadata": {},
   "outputs": [],
   "source": [
    "text_dump = ''\n",
    "for page_num in range(len(doc)):\n",
    "\tpage = doc.load_page(page_num)\t\n",
    "\t# Extract text from the page\n",
    "\ttext = page.get_text()\n",
    "\ttext_dump += text\n",
    "\n",
    "# Close the PDF\n",
    "doc.close()"
   ]
  },
  {
   "cell_type": "code",
   "execution_count": 31,
   "metadata": {},
   "outputs": [],
   "source": [
    "def clean_text(text):\n",
    "\t# Remove special characters except spaces\n",
    "\ttext = text.replace('\\n',' ')\n",
    "\ttext = re.sub(r'[^a-zA-Z0-9\\s-]', '', text)\n",
    "\ttext = text.strip()\n",
    "\ttext = text.lower()\n",
    "\treturn text"
   ]
  },
  {
   "cell_type": "code",
   "execution_count": 41,
   "metadata": {},
   "outputs": [
    {
     "name": "stdout",
     "output_type": "stream",
     "text": [
      "unique words: 78190\n",
      "['', 'alkimi', 'pengamat', 'berdetar', 'sirkol', 'melingkari', 'jussieu', 'discorea', 'guertarda', 'bergendang']\n"
     ]
    }
   ],
   "source": [
    "text_dump = clean_text(text_dump)\n",
    "unique_words = list(set(text_dump.split(' ')))\n",
    "print(f'unique words: {len(unique_words)}')\n",
    "print(unique_words[:10])"
   ]
  },
  {
   "cell_type": "code",
   "execution_count": 47,
   "metadata": {},
   "outputs": [
    {
     "name": "stdout",
     "output_type": "stream",
     "text": [
      "unique words: 77755\n",
      "['alkimi', 'pengamat', 'berdetar', 'sirkol', 'melingkari', 'jussieu', 'discorea', 'guertarda', 'bergendang', 'bertepi']\n"
     ]
    }
   ],
   "source": [
    "filtered_unique_words = []\n",
    "for word in unique_words:\n",
    "\tif len(word) >= 3:\n",
    "\t\tfiltered_unique_words.append(word)\n",
    "\n",
    "print(f'unique words: {len(filtered_unique_words)}')\n",
    "print(filtered_unique_words[:10])"
   ]
  },
  {
   "cell_type": "code",
   "execution_count": 51,
   "metadata": {},
   "outputs": [],
   "source": [
    "with open('data/generated/malay-words.txt', \"w\") as output:\n",
    "\toutput.write('\\n'.join(filtered_unique_words))"
   ]
  },
  {
   "cell_type": "code",
   "execution_count": null,
   "metadata": {},
   "outputs": [],
   "source": []
  }
 ],
 "metadata": {
  "kernelspec": {
   "display_name": "ustaz_env",
   "language": "python",
   "name": "python3"
  },
  "language_info": {
   "codemirror_mode": {
    "name": "ipython",
    "version": 3
   },
   "file_extension": ".py",
   "mimetype": "text/x-python",
   "name": "python",
   "nbconvert_exporter": "python",
   "pygments_lexer": "ipython3",
   "version": "3.10.13"
  }
 },
 "nbformat": 4,
 "nbformat_minor": 2
}
