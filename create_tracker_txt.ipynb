{
 "cells": [
  {
   "cell_type": "code",
   "execution_count": 1,
   "metadata": {},
   "outputs": [],
   "source": [
    "import os"
   ]
  },
  {
   "cell_type": "code",
   "execution_count": 15,
   "metadata": {},
   "outputs": [],
   "source": [
    "TRACKER_DIR =  'trackers'\n",
    "ALL_TRACKER_PATH = 'tracker.txt'"
   ]
  },
  {
   "cell_type": "code",
   "execution_count": 22,
   "metadata": {},
   "outputs": [],
   "source": [
    "for file_name in os.listdir(TRACKER_DIR):\n",
    "\tif '.txt' not in file_name:\n",
    "\t\tcontinue\n",
    "\t\n",
    "\tstart_index = int(file_name.replace('.txt', '').split('-')[0])\n",
    "\tend_index = int(file_name.replace('.txt', '').split('-')[1])\n",
    "\t\t\t\t\t\t\t\t\t\t\t\t\t\t\n",
    "\tfile_path = f'{TRACKER_DIR}/{file_name}'\t\n",
    "\twith open(file_path, 'r') as file:\n",
    "\t\tkeyword_index = int(file.readline().strip())\n",
    "\t\n",
    "\twith open(ALL_TRACKER_PATH, 'a') as file:\n",
    "\t\tfor i in range(keyword_index, end_index):\n",
    "\t\t\tfile.write(str(i) + \"\\n\")"
   ]
  },
  {
   "cell_type": "code",
   "execution_count": null,
   "metadata": {},
   "outputs": [],
   "source": []
  }
 ],
 "metadata": {
  "kernelspec": {
   "display_name": "scrape_env",
   "language": "python",
   "name": "python3"
  },
  "language_info": {
   "codemirror_mode": {
    "name": "ipython",
    "version": 3
   },
   "file_extension": ".py",
   "mimetype": "text/x-python",
   "name": "python",
   "nbconvert_exporter": "python",
   "pygments_lexer": "ipython3",
   "version": "3.10.13"
  }
 },
 "nbformat": 4,
 "nbformat_minor": 2
}
